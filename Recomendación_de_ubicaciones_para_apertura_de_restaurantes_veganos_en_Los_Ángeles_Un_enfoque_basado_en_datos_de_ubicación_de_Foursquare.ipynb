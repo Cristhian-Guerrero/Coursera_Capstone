{
  "nbformat": 4,
  "nbformat_minor": 0,
  "metadata": {
    "colab": {
      "provenance": [],
      "authorship_tag": "ABX9TyMe6jjJgomVXyxDPuppMt2I",
      "include_colab_link": true
    },
    "kernelspec": {
      "name": "python3",
      "display_name": "Python 3"
    },
    "language_info": {
      "name": "python"
    }
  },
  "cells": [
    {
      "cell_type": "markdown",
      "metadata": {
        "id": "view-in-github",
        "colab_type": "text"
      },
      "source": [
        "<a href=\"https://colab.research.google.com/github/Cristhian-Guerrero/Coursera_Capstone/blob/Master/Recomendaci%C3%B3n_de_ubicaciones_para_apertura_de_restaurantes_veganos_en_Los_%C3%81ngeles_Un_enfoque_basado_en_datos_de_ubicaci%C3%B3n_de_Foursquare.ipynb\" target=\"_parent\"><img src=\"https://colab.research.google.com/assets/colab-badge.svg\" alt=\"Open In Colab\"/></a>"
      ]
    },
    {
      "cell_type": "markdown",
      "source": [
        "\n",
        "Sección de Datos\n",
        "\n",
        "Los datos para este proyecto se obtendrán de varias fuentes:\n",
        "\n",
        "***Datos de ubicación de Foursquare:*** Utilizaremos la API de Foursquare para obtener información sobre restaurantes veganos y otros establecimientos relacionados con la alimentación en Los Ángeles. Los datos incluirán el nombre, la dirección, las coordenadas geográficas, el tipo de cocina y las calificaciones de los usuarios. Estos datos se utilizarán para identificar áreas con alta concentración de restaurantes veganos y analizar la competencia en diferentes vecindarios.\n",
        "\n",
        "---\n",
        "\n",
        "***Datos demográficos de Los Ángeles:*** Estos datos se obtendrán de fuentes públicas, como el censo de EE. UU. o el gobierno local, y proporcionarán información sobre la población, el ingreso medio y otras características socioeconómicas relevantes en cada vecindario. Estos datos nos ayudarán a identificar áreas con una mayor demanda potencial de restaurantes veganos y a seleccionar ubicaciones que puedan ser más atractivas para el público objetivo.\n",
        "\n",
        "---\n",
        "\n",
        "***Datos geográficos de Los Ángeles:*** Estos datos, que incluyen las coordenadas de latitud y longitud de los vecindarios, se obtendrán de fuentes públicas o de mapas geográficos en línea. Los datos geográficos nos permitirán visualizar la distribución de restaurantes veganos y otros establecimientos relacionados con la alimentación en un mapa, facilitando el análisis de las áreas de interés.\n",
        "\n",
        "---\n",
        "\n",
        "***Datos de tráfico peatonal y vehicular:*** Estos datos se obtendrán de fuentes públicas, como el gobierno local o empresas de análisis de tráfico. La información sobre el flujo de personas y vehículos en diferentes áreas de la ciudad nos ayudará a identificar ubicaciones con alta visibilidad y accesibilidad, lo que puede ser un factor clave para el éxito de un nuevo restaurante vegano.\n"
      ],
      "metadata": {
        "id": "0HZcINWwc9_b"
      }
    },
    {
      "cell_type": "code",
      "execution_count": 13,
      "metadata": {
        "id": "lmnKzI9EBw-L"
      },
      "outputs": [],
      "source": [
        "import requests\n",
        "import pandas as pd\n"
      ]
    },
    {
      "cell_type": "code",
      "source": [],
      "metadata": {
        "id": "zUrs_keCbtEQ"
      },
      "execution_count": null,
      "outputs": []
    },
    {
      "cell_type": "markdown",
      "source": [
        "**Datos de ubicación de Foursquare:** Utilizaremos la API de Foursquare para obtener información sobre restaurantes veganos y otros establecimientos relacionados con la alimentación en Los Ángeles. Los datos incluirán el nombre, la dirección, las coordenadas geográficas, el tipo de cocina y las calificaciones de los usuarios. Estos datos se utilizarán para identificar áreas con alta concentración de restaurantes veganos y analizar la competencia en diferentes vecindarios."
      ],
      "metadata": {
        "id": "4WsG1b6IZRy1"
      }
    },
    {
      "cell_type": "code",
      "source": [
        "CLIENT_ID = 'YOUR_CLIENT_ID'  # Su ID de cliente de Foursquare\n",
        "CLIENT_SECRET = 'YOUR_CLIENT_SECRET'  # Su clave secreta de cliente de Foursquare\n",
        "VERSION = '20210428'  # Fecha de la versión de la API"
      ],
      "metadata": {
        "id": "H_8Dg2VBYEjL"
      },
      "execution_count": 14,
      "outputs": []
    },
    {
      "cell_type": "markdown",
      "source": [
        "Defina una función para realizar la búsqueda en Foursquare:"
      ],
      "metadata": {
        "id": "CJA9ku1NYK-C"
      }
    },
    {
      "cell_type": "code",
      "source": [
        "def search_venues(latitude, longitude, query, radius=5000, limit=100):\n",
        "    url = f'https://api.foursquare.com/v2/venues/search?client_id={CLIENT_ID}&client_secret={CLIENT_SECRET}&v={VERSION}&ll={latitude},{longitude}&query={query}&radius={radius}&limit={limit}'\n",
        "    response = requests.get(url).json()\n",
        "    \n",
        "    if 'venues' not in response['response']:\n",
        "        print(\"Error:\", response)\n",
        "        return []\n",
        "\n",
        "    return response['response']['venues']\n"
      ],
      "metadata": {
        "id": "yfYSbYjFSGbJ"
      },
      "execution_count": 15,
      "outputs": []
    },
    {
      "cell_type": "markdown",
      "source": [
        "Realice la búsqueda de restaurantes veganos en Los Ángeles:"
      ],
      "metadata": {
        "id": "5Fd8JIymYRhI"
      }
    },
    {
      "cell_type": "code",
      "source": [
        "los_angeles_latitude = 34.052235\n",
        "los_angeles_longitude = -118.243683\n",
        "query = 'vegan'\n",
        "\n",
        "venues = search_venues(los_angeles_latitude, los_angeles_longitude, query)\n"
      ],
      "metadata": {
        "id": "HpzbmMRxSMwG",
        "colab": {
          "base_uri": "https://localhost:8080/"
        },
        "outputId": "d070c292-5408-48db-f30e-f83a5d444f97"
      },
      "execution_count": 16,
      "outputs": [
        {
          "output_type": "stream",
          "name": "stdout",
          "text": [
            "Error: {'meta': {'code': 400, 'errorType': 'invalid_auth', 'errorDetail': 'Missing access credentials. See https://developer.foursquare.com/docs/api/configuration/authentication for details.', 'requestId': '644ca4d9ced07c2ed749c8ff'}, 'response': {}}\n"
          ]
        }
      ]
    },
    {
      "cell_type": "code",
      "source": [
        "def process_venues(venues):\n",
        "    venue_list = []\n",
        "    for venue in venues:\n",
        "        venue_list.append([\n",
        "            venue['name'],\n",
        "            venue['location']['address'] if 'address' in venue['location'] else '',\n",
        "            venue['location']['lat'],\n",
        "            venue['location']['lng'],\n",
        "            venue['categories'][0]['name'] if len(venue['categories']) > 0 else '',\n",
        "        ])\n",
        "    return pd.DataFrame(venue_list, columns=['Name', 'Address', 'Latitude', 'Longitude', 'Category'])\n",
        "\n",
        "vegan_restaurants = process_venues(venues)\n",
        "print(vegan_restaurants.head())"
      ],
      "metadata": {
        "colab": {
          "base_uri": "https://localhost:8080/"
        },
        "id": "_4LtGykmSRU1",
        "outputId": "44e6d1fe-4f6a-4f37-f7ae-1ec57a1da494"
      },
      "execution_count": 17,
      "outputs": [
        {
          "output_type": "stream",
          "name": "stdout",
          "text": [
            "Empty DataFrame\n",
            "Columns: [Name, Address, Latitude, Longitude, Category]\n",
            "Index: []\n"
          ]
        }
      ]
    },
    {
      "cell_type": "markdown",
      "source": [
        "Este código realizará una búsqueda de restaurantes veganos en Los Ángeles utilizando la API de Foursquare y convertirá los resultados en un DataFrame de Pandas. Puede ajustar los parámetros de búsqueda, como el radio y el límite, según sus necesidades.\n",
        "\n",
        "Recuerde reemplazar YOUR_CLIENT_ID y YOUR_CLIENT_SECRET con sus propias credenciales de API de Foursquare.\n",
        "\n",
        "\n",
        "\n",
        "\n"
      ],
      "metadata": {
        "id": "I8hfVcAfZGmu"
      }
    },
    {
      "cell_type": "markdown",
      "source": [
        "---\n"
      ],
      "metadata": {
        "id": "UK1EC1WGZ6vU"
      }
    },
    {
      "cell_type": "markdown",
      "source": [
        "**Datos demográficos de Los Ángeles:** Estos datos se obtendrán de fuentes públicas, como el censo de EE. UU. o el gobierno local, y proporcionarán información sobre la población, el ingreso medio y otras características socioeconómicas relevantes en cada vecindario. Estos datos nos ayudarán a identificar áreas con una mayor demanda potencial de restaurantes veganos y a seleccionar ubicaciones que puedan ser más atractivas para el público objetivo."
      ],
      "metadata": {
        "id": "2nOeNZV2Z_5E"
      }
    },
    {
      "cell_type": "markdown",
      "source": [
        "Para obtener datos demográficos de Los Ángeles, puede utilizar una fuente pública como el American Community Survey (ACS) del US Census Bureau. A continuación se muestra un ejemplo de cómo hacer esto utilizando la API de ACS y pandas en Python:"
      ],
      "metadata": {
        "id": "lbUqCaCpaI_R"
      }
    },
    {
      "cell_type": "code",
      "source": [
        "API_KEY = 'YOUR_API_KEY'  # Su clave de API del US Census Bureau (opcional)\n"
      ],
      "metadata": {
        "id": "Ffnv-0ueZ-tI"
      },
      "execution_count": 18,
      "outputs": []
    },
    {
      "cell_type": "markdown",
      "source": [
        "Defina una función para realizar la búsqueda en la API de ACS:"
      ],
      "metadata": {
        "id": "omRAFIuOaR3P"
      }
    },
    {
      "cell_type": "code",
      "source": [
        "def get_demographics_data(state_code, county_code, api_key=None):\n",
        "    variables = ['NAME', 'B01003_001E', 'B19013_001E']  # Nombre del área, población total e ingreso medio\n",
        "    variables_str = ','.join(variables)\n",
        "    url = f'https://api.census.gov/data/2019/acs/acs5?get={variables_str}&for=tract:*&in=state:{state_code}%20county:{county_code}'\n",
        "    \n",
        "    if api_key:\n",
        "        url += f'&key={api_key}'\n",
        "\n",
        "    response = requests.get(url)\n",
        "    data = response.json()\n",
        "    headers = data.pop(0)\n",
        "    return pd.DataFrame(data, columns=headers)\n"
      ],
      "metadata": {
        "id": "b9dbtmw3aS99"
      },
      "execution_count": 19,
      "outputs": []
    },
    {
      "cell_type": "markdown",
      "source": [
        "Realice la búsqueda de datos demográficos para Los Ángeles:"
      ],
      "metadata": {
        "id": "zTAexcjpaYju"
      }
    },
    {
      "cell_type": "code",
      "source": [
        "def get_demographics_data(state_code, county_code, api_key=None):\n",
        "    variables = ['NAME', 'B01003_001E', 'B19013_001E']  # Nombre del área, población total e ingreso medio\n",
        "    variables_str = ','.join(variables)\n",
        "    url = f'https://api.census.gov/data/2019/acs/acs5?get={variables_str}&for=tract:*&in=state:{state_code}%20county:{county_code}'\n",
        "    \n",
        "    if api_key:\n",
        "        url += f'&key={api_key}'\n",
        "\n",
        "    response = requests.get(url)\n",
        "\n",
        "    if response.status_code != 200:\n",
        "        print(f\"Error: {response.status_code}, {response.text}\")\n",
        "        return pd.DataFrame()\n",
        "\n",
        "    data = response.json()\n",
        "    headers = data.pop(0)\n",
        "    return pd.DataFrame(data, columns=headers)\n",
        "\n"
      ],
      "metadata": {
        "id": "RQDb20xiaZ0x"
      },
      "execution_count": 21,
      "outputs": []
    },
    {
      "cell_type": "markdown",
      "source": [
        "Realice la búsqueda de datos demográficos para Los Ángeles:"
      ],
      "metadata": {
        "id": "eJXEgLWea1gS"
      }
    },
    {
      "cell_type": "code",
      "source": [
        "state_code = '06'  # Código del estado de California\n",
        "county_code = '037'  # Código del condado de Los Ángeles\n",
        "\n",
        "la_demographics = get_demographics_data(state_code, county_code, API_KEY)\n",
        "print(la_demographics.head())\n"
      ],
      "metadata": {
        "id": "ewCuTOXwbVRm"
      },
      "execution_count": null,
      "outputs": []
    },
    {
      "cell_type": "markdown",
      "source": [
        "Este código realizará una búsqueda de datos demográficos en Los Ángeles utilizando la API de ACS y convertirá los resultados en un DataFrame de pandas. Puede ajustar las variables para incluir otras características socioeconómicas según sus necesidades. Consulte la documentación del ACS para obtener una lista completa de variables disponibles: \n",
        "\n",
        "Recuerde reemplazar 'YOUR_API_KEY' con su propia clave de API del US Census Bureau si es necesario (algunas solicitudes pueden funcionar sin una clave de API)."
      ],
      "metadata": {
        "id": "x8jnBBRmbhoJ"
      }
    },
    {
      "cell_type": "markdown",
      "source": [
        "---\n"
      ],
      "metadata": {
        "id": "kQZni3tmbrqH"
      }
    },
    {
      "cell_type": "markdown",
      "source": [],
      "metadata": {
        "id": "s02Y9y8abtp3"
      }
    },
    {
      "cell_type": "markdown",
      "source": [],
      "metadata": {
        "id": "grdwV-r7c57M"
      }
    }
  ]
}