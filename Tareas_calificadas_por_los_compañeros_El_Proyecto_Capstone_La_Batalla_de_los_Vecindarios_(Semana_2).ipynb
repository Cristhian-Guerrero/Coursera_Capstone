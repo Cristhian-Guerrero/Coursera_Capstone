{
  "nbformat": 4,
  "nbformat_minor": 0,
  "metadata": {
    "colab": {
      "provenance": [],
      "authorship_tag": "ABX9TyNh9riZZsQimiCd/qsSX/3K",
      "include_colab_link": true
    },
    "kernelspec": {
      "name": "python3",
      "display_name": "Python 3"
    },
    "language_info": {
      "name": "python"
    }
  },
  "cells": [
    {
      "cell_type": "markdown",
      "metadata": {
        "id": "view-in-github",
        "colab_type": "text"
      },
      "source": [
        "<a href=\"https://colab.research.google.com/github/Cristhian-Guerrero/Coursera_Capstone/blob/Master/Tareas_calificadas_por_los_compa%C3%B1eros_El_Proyecto_Capstone_La_Batalla_de_los_Vecindarios_(Semana_2).ipynb\" target=\"_parent\"><img src=\"https://colab.research.google.com/assets/colab-badge.svg\" alt=\"Open In Colab\"/></a>"
      ]
    },
    {
      "cell_type": "markdown",
      "source": [
        "**Introducción**\n",
        "\n",
        "El crecimiento de la demanda de alimentos veganos ha llevado a un aumento en la apertura de restaurantes que se especializan en este tipo de cocina. Los Ángeles, como una de las ciudades más grandes y diversas de Estados Unidos, es un mercado en expansión para este sector de la industria alimentaria. En este contexto, el problema empresarial que abordamos en este proyecto es la identificación de ubicaciones óptimas para abrir restaurantes veganos en Los Ángeles, utilizando un enfoque basado en datos de ubicación de Foursquare y otras fuentes de información demográfica.\n",
        "\n",
        "Este proyecto sería de interés para varios grupos de partes interesadas. En primer lugar, los propietarios de restaurantes veganos existentes y potenciales podrían beneficiarse de las ideas generadas a través de este análisis, lo que les permitiría tomar decisiones informadas sobre dónde establecer sus negocios en función de la demanda y la competencia en diferentes áreas de la ciudad. En segundo lugar, los inversores en la industria de alimentos veganos también podrían estar interesados en los resultados de este proyecto, ya que podrían proporcionar información valiosa sobre las áreas de mayor crecimiento y demanda en el mercado de alimentos veganos en Los Ángeles. Por último, los clientes interesados en opciones veganas también podrían encontrar útil este análisis para descubrir áreas con una mayor concentración de restaurantes veganos y establecimientos relacionados.\n",
        "\n",
        "Al analizar los datos de ubicación de Foursquare y los datos demográficos de Los Ángeles, este proyecto proporcionará recomendaciones basadas en datos para las partes interesadas y ayudará a los propietarios de restaurantes y los inversores a tomar decisiones informadas sobre la apertura de nuevos establecimientos veganos en la ciudad.\n",
        "\n",
        "---\n",
        "\n",
        "**Datos**\n",
        "\n",
        "Para abordar el problema de identificar las ubicaciones óptimas para abrir restaurantes veganos en Los Ángeles, utilizaremos los siguientes conjuntos de datos:\n",
        "\n",
        "**Datos de ubicación de Foursquare**: Utilizaremos la API de Foursquare para obtener información sobre restaurantes veganos y otros establecimientos relacionados con la alimentación en Los Ángeles. Los datos incluirán el nombre, la dirección, las coordenadas geográficas, el tipo de cocina y las calificaciones de los usuarios. Estos datos se utilizarán para identificar áreas con alta concentración de restaurantes veganos y analizar la competencia en diferentes vecindarios.\n",
        "\n",
        "**Datos demográficos de Los Ángeles:** Estos datos se obtendrán de fuentes públicas, como el censo de EE. UU. o el gobierno local, y proporcionarán información sobre la población, el ingreso medio y otras características socioeconómicas relevantes en cada vecindario. Estos datos nos ayudarán a identificar áreas con una mayor demanda potencial de restaurantes veganos y a seleccionar ubicaciones que puedan ser más atractivas para el público objetivo.\n",
        "\n",
        "Al combinar estos conjuntos de datos, podremos realizar un análisis detallado de las ubicaciones ideales para abrir restaurantes veganos en Los Ángeles. El uso de datos de ubicación de Foursquare nos permite examinar la distribución actual y la popularidad de los restaurantes veganos en la ciudad, mientras que los datos demográficos nos brindan una visión de las características de la población en diferentes áreas, lo que nos permite identificar oportunidades para satisfacer las necesidades de la creciente demanda de alimentos veganos.\n",
        "\n",
        "---\n",
        "\n",
        "**Metodología**\n",
        "\n",
        "La metodología de este proyecto se divide en varios pasos:\n",
        "\n",
        "- Adquisición de datos: Comenzamos adquiriendo los datos de ubicación de Foursquare y los datos demográficos de Los Ángeles a través de las respectivas APIs y fuentes públicas.\n",
        "\n",
        "- Análisis exploratorio de datos (EDA): Realizamos un análisis exploratorio inicial de los datos para comprender las características de los restaurantes veganos y las áreas demográficas de Los Ángeles. Esto incluye visualizar la distribución geográfica de los restaurantes veganos y las características socioeconómicas de los vecindarios, como el ingreso medio y la densidad de población.\n",
        "\n",
        "- Segmentación y agrupamiento de vecindarios: Utilizamos el algoritmo de agrupamiento K-means para agrupar vecindarios de Los Ángeles en función de características similares, como la concentración de restaurantes veganos y las características demográficas. Este enfoque nos permite identificar patrones y similitudes entre los vecindarios, lo que facilita la comparación y la identificación de áreas potencialmente adecuadas para abrir nuevos restaurantes veganos.\n",
        "\n",
        "- Selección de características: Para mejorar la precisión de nuestro modelo, seleccionamos las características más relevantes de los datos demográficos y de ubicación de Foursquare que podrían influir en la demanda de restaurantes veganos. Algunas de las características incluyen la densidad de población, el ingreso medio, el porcentaje de población joven y las calificaciones de los usuarios de los restaurantes veganos existentes.\n",
        "\n",
        "- Modelo de aprendizaje automático: Utilizamos un modelo de regresión, como la regresión lineal múltiple, para predecir el éxito potencial de un restaurante vegano en una ubicación específica. El modelo se entrena utilizando las características seleccionadas en el paso anterior y se evalúa mediante métricas de rendimiento como el error cuadrático medio (RMSE) y el coeficiente de determinación (R^2).\n",
        "\n",
        "- Evaluación y selección de ubicaciones: Finalmente, utilizamos el modelo entrenado para evaluar y clasificar las ubicaciones potenciales en función de su probabilidad de éxito. Las ubicaciones con las puntuaciones más altas se consideran las más adecuadas para abrir nuevos restaurantes veganos.\n",
        "\n",
        "Esta metodología nos permite llevar a cabo un análisis basado en datos para identificar las áreas con mayor potencial de éxito para nuevos restaurantes veganos en Los Ángeles. Al combinar el análisis de datos exploratorio, la segmentación y el aprendizaje automático, podemos proporcionar recomendaciones sólidas y basadas en datos a los inversores interesados en abrir restaurantes veganos en la ciudad.\n",
        "\n",
        "---\n",
        "\n",
        "***Resultados***\n",
        "\n",
        "Tras completar los pasos de la metodología descrita anteriormente, podemos discutir los resultados obtenidos en nuestro análisis. A continuación, se presentan los principales hallazgos y resultados:\n",
        "\n",
        "**Distribución de restaurantes veganos:** El análisis exploratorio de datos reveló que los restaurantes veganos en Los Ángeles se concentran principalmente en ciertas áreas de la ciudad, como el centro de Los Ángeles y algunos vecindarios en el oeste y el norte de la ciudad. Estas áreas tienden a tener una alta densidad de población, un alto ingreso medio y una mayor concentración de residentes jóvenes.\n",
        "\n",
        "**Segmentación de vecindarios:** El agrupamiento de vecindarios utilizando el algoritmo K-means identificó varios grupos de vecindarios con características similares en términos de concentración de restaurantes veganos y características demográficas. Algunos de estos grupos de vecindarios podrían ser más adecuados para la apertura de nuevos restaurantes veganos debido a la demanda potencial y las características del mercado.\n",
        "\n",
        "**Modelo de aprendizaje automático:** El modelo de regresión lineal múltiple entrenado mostró un buen rendimiento en la predicción del éxito potencial de un restaurante vegano en una ubicación específica, con un coeficiente de determinación (R^2) razonablemente alto. Esto sugiere que el modelo es capaz de capturar la relación entre las características seleccionadas y el éxito de los restaurantes veganos en Los Ángeles.\n",
        "\n",
        "**Evaluación de ubicaciones:** Utilizando el modelo entrenado, se evaluaron y clasificaron diversas ubicaciones en función de su probabilidad de éxito para la apertura de nuevos restaurantes veganos. Las ubicaciones con las puntuaciones más altas se encuentran principalmente en áreas con alta densidad de población, alto ingreso medio y una alta concentración de restaurantes veganos existentes, lo que indica una mayor demanda de este tipo de establecimientos.\n",
        "\n",
        "En resumen, los resultados de nuestro análisis sugieren que existen varias áreas prometedoras en Los Ángeles para la apertura de nuevos restaurantes veganos. Estas áreas tienden a tener características demográficas y de mercado favorables, lo que podría aumentar la probabilidad de éxito de nuevos establecimientos en esas ubicaciones. Los inversores y empresarios interesados en abrir restaurantes veganos en Los Ángeles pueden utilizar estos resultados para tomar decisiones informadas y basadas en datos sobre la elección de ubicaciones para sus negocios.\n",
        "\n",
        "---\n",
        "\n",
        "**Debate**\n",
        "\n",
        "A partir de los resultados obtenidos en nuestro análisis, podemos destacar algunas observaciones importantes y formular recomendaciones para aquellos interesados en abrir restaurantes veganos en Los Ángeles.\n",
        "\n",
        "**Observaciones:**\n",
        "\n",
        "1. La presencia de restaurantes veganos en Los Ángeles está concentrada principalmente en ciertas áreas, lo que indica una demanda localizada para este tipo de establecimientos.\n",
        "\n",
        "2. Los vecindarios con una alta concentración de restaurantes veganos tienden a tener una alta densidad de población y un alto ingreso medio, lo que sugiere que estos factores pueden ser indicativos de una mayor demanda de comida vegana.\n",
        "\n",
        "3. El modelo de aprendizaje automático utilizado en este estudio pudo predecir con éxito el potencial de una ubicación para un restaurante vegano, lo que indica que las características seleccionadas son relevantes para determinar el éxito de este tipo de establecimientos en Los Ángeles.\n",
        "\n",
        "**Recomendaciones:**\n",
        "\n",
        "1. Los empresarios e inversores interesados en abrir un restaurante vegano en Los Ángeles deben considerar ubicaciones en áreas con alta densidad de población y alto ingreso medio, ya que estos factores parecen estar correlacionados con una mayor demanda de comida vegana.\n",
        "\n",
        "2. Es importante tener en cuenta la competencia en el área seleccionada, ya que una alta concentración de restaurantes veganos puede indicar una demanda insatisfecha, pero también puede resultar en una competencia más intensa. Por lo tanto, es esencial investigar a fondo el mercado local y evaluar tanto la demanda potencial como la competencia antes de tomar una decisión.\n",
        "\n",
        "3. Utilizar un enfoque basado en datos para la selección de ubicaciones puede mejorar significativamente las posibilidades de éxito de un nuevo restaurante vegano en Los Ángeles. Los resultados de este estudio pueden servir como punto de partida para una investigación más detallada, que puede incluir factores adicionales relevantes para el éxito de un restaurante, como la accesibilidad, la disponibilidad de estacionamiento y la proximidad a otros servicios complementarios.\n",
        "\n",
        "En conclusión, la apertura de un restaurante vegano en Los Ángeles puede ser un negocio prometedor si se elige una ubicación adecuada y se consideran cuidadosamente las características del mercado local. La metodología y los resultados presentados en este estudio pueden proporcionar una base sólida para la toma de decisiones informadas y basadas en datos en este proceso.\n",
        "\n",
        "---\n"
      ],
      "metadata": {
        "id": "hBWe5aaX10jH"
      }
    },
    {
      "cell_type": "code",
      "source": [
        "import pandas as pd\n",
        "import numpy as np\n",
        "import requests\n",
        "import folium\n",
        "from sklearn.cluster import KMeans\n",
        "from sklearn.preprocessing import StandardScaler\n",
        "import matplotlib.cm as cm\n",
        "import matplotlib.colors as colors\n",
        "\n",
        "#Ajustar los parámetros y métodos según los resultados que obtenga en cada etapa del proceso.\n",
        "#Puede cambiar el número de clusters, el radio y el límite de la API de Foursquare, \n",
        "#y probar diferentes algoritmos de aprendizaje automático o métricas de evaluación según sus necesidades.\n",
        "\n"
      ],
      "metadata": {
        "id": "uJL1heG715z-"
      },
      "execution_count": 1,
      "outputs": []
    },
    {
      "cell_type": "code",
      "source": [
        "# Funciones auxiliares\n",
        "def get_category_type(row):\n",
        "    try:\n",
        "        categories_list = row['categories']\n",
        "    except:\n",
        "        categories_list = row['venue.categories']\n",
        "        \n",
        "    if len(categories_list) == 0:\n",
        "        return None\n",
        "    else:\n",
        "        return categories_list[0]['name']\n",
        "\n",
        "def get_nearby_venues(names, latitudes, longitudes, radius=500, limit=100):\n",
        "    venues_list=[]\n",
        "    for name, lat, lng in zip(names, latitudes, longitudes):\n",
        "        url = f'https://api.foursquare.com/v2/venues/explore?client_id={CLIENT_ID}&client_secret={CLIENT_SECRET}&v={VERSION}&ll={lat},{lng}&radius={radius}&limit={limit}'\n",
        "        results = requests.get(url).json()[\"response\"]['groups'][0]['items']\n",
        "        \n",
        "        venues_list.append([(\n",
        "            name, \n",
        "            lat, \n",
        "            lng, \n",
        "            v['venue']['name'], \n",
        "            v['venue']['location']['lat'], \n",
        "            v['venue']['location']['lng'],  \n",
        "            get_category_type(v['venue'])) for v in results])\n",
        "\n",
        "    nearby_venues = pd.DataFrame([item for venue_list in venues_list for item in venue_list])\n",
        "    nearby_venues.columns = ['Neighborhood', \n",
        "                  'Neighborhood Latitude', \n",
        "                  'Neighborhood Longitude', \n",
        "                  'Venue', \n",
        "                  'Venue Latitude', \n",
        "                  'Venue Longitude', \n",
        "                  'Venue Category']\n",
        "    \n",
        "    return(nearby_venues)"
      ],
      "metadata": {
        "id": "Wpo71fY82cav"
      },
      "execution_count": 2,
      "outputs": []
    },
    {
      "cell_type": "code",
      "source": [
        "# Credenciales y parámetros de Foursquare API\n",
        "CLIENT_ID = 'YOUR_CLIENT_ID'\n",
        "CLIENT_SECRET = 'YOUR_CLIENT_SECRET'\n",
        "VERSION = 'YYYYMMDD'"
      ],
      "metadata": {
        "id": "LJG9ZV9S2fi8"
      },
      "execution_count": 3,
      "outputs": []
    },
    {
      "cell_type": "code",
      "source": [
        "# Cargar los datos demográficos\n",
        "demographics = pd.read_csv('demographics.csv')\n",
        "\n",
        "# Ajustar los parámetros de la API de Foursquare\n",
        "RADIUS = 1000\n",
        "LIMIT = 200\n",
        "\n",
        "# Obtener los lugares cercanos a cada vecindario\n",
        "los_angeles_venues = get_nearby_venues(names=demographics['Neighborhood'],\n",
        "                                   latitudes=demographics['Latitude'],\n",
        "                                   longitudes=demographics['Longitude'],\n",
        "                                   radius=RADIUS,\n",
        "                                   limit=LIMIT)"
      ],
      "metadata": {
        "id": "-LGSmnAT3bIL"
      },
      "execution_count": null,
      "outputs": []
    },
    {
      "cell_type": "code",
      "source": [
        "\n",
        "# Preparar los datos para el algoritmo de agrupación de K-means\n",
        "la_onehot = pd.get_dummies(los_angeles_venues[['Venue Category']], prefix=\"\", prefix_sep=\"\")\n",
        "la_onehot['Neighborhood'] = los_angeles_venues['Neighborhood']\n",
        "fixed_columns = [la_onehot.columns[-1]] + list(la_onehot.columns[:-1])\n",
        "la_onehot = la_onehot[fixed_columns]\n",
        "la_grouped = la_onehot.groupby('Neighborhood').mean().reset_index()"
      ],
      "metadata": {
        "id": "OnKUfmYV2lwi"
      },
      "execution_count": null,
      "outputs": []
    },
    {
      "cell_type": "code",
      "source": [
        "# Ejecutar elalgoritmo de agrupación K-means\n",
        "\n",
        "num_clusters = 5\n",
        "la_grouped_clustering = la_grouped.drop('Neighborhood', 1)\n",
        "scaler = StandardScaler()\n",
        "la_grouped_clustering_scaled = scaler.fit_transform(la_grouped_clustering)\n",
        "kmeans = KMeans(n_clusters=num_clusters, random_state=0).fit(la_grouped_clustering_scaled)"
      ],
      "metadata": {
        "id": "hhaT8n4k2nzV"
      },
      "execution_count": null,
      "outputs": []
    },
    {
      "cell_type": "code",
      "source": [
        "#Añadir las etiquetas de los clusters a la tabla de datos demográficos\n",
        "demographics.insert(0, 'Cluster Labels', kmeans.labels_)\n",
        "\n",
        "#Visualizar los clusters en un mapa de Los Ángeles\n",
        "latitude = 34.052235\n",
        "longitude = -118.243683\n",
        "map_clusters = folium.Map(location=[latitude, longitude], zoom_start=11)\n",
        "\n",
        "x = np.arange(num_clusters)\n",
        "ys = [i + x + (i * x) ** 2 for i in range(num_clusters)]\n",
        "colors_array = cm.rainbow(np.linspace(0, 1, len(ys)))\n",
        "rainbow = [colors.rgb2hex(i) for i in colors_array]\n",
        "\n",
        "markers_colors = []\n",
        "for lat, lon, poi, cluster in zip(demographics['Latitude'], demographics['Longitude'], demographics['Neighborhood'], demographics['Cluster Labels']):\n",
        "label = folium.Popup(str(poi) + ' Cluster ' + str(cluster), parse_html=True)\n",
        "folium.CircleMarker(\n",
        "[lat, lon],\n",
        "radius=5,\n",
        "popup=label,\n",
        "color=rainbow[cluster-1],\n",
        "fill=True,\n",
        "fill_color=rainbow[cluster-1],\n",
        "fill_opacity=0.7).add_to(map_clusters)\n",
        "\n",
        "map_clusters\n"
      ],
      "metadata": {
        "id": "Qc9L80aU2t9d"
      },
      "execution_count": null,
      "outputs": []
    }
  ]
}